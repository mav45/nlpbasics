{
 "cells": [
  {
   "cell_type": "code",
   "execution_count": 3,
   "metadata": {},
   "outputs": [],
   "source": [
    "import spacy\n",
    "nlp = spacy.load('en_core_web_sm')"
   ]
  },
  {
   "cell_type": "code",
   "execution_count": 9,
   "metadata": {},
   "outputs": [],
   "source": [
    "def lemma(txt):\n",
    "    \n",
    "    for l in txt:\n",
    "        print(l.lemma, '\\t', l.lemma_)"
   ]
  },
  {
   "cell_type": "code",
   "execution_count": 10,
   "metadata": {},
   "outputs": [],
   "source": [
    "text = nlp(u\"This was one of the funnest vacations I had ever been on. I spent everday just exploring new places\" +\n",
    "          \"and meeting all kinds of interesting people.\")"
   ]
  },
  {
   "cell_type": "code",
   "execution_count": 11,
   "metadata": {},
   "outputs": [
    {
     "name": "stdout",
     "output_type": "stream",
     "text": [
      "1995909169258310477 \t this\n",
      "10382539506755952630 \t be\n",
      "17454115351911680600 \t one\n",
      "886050111519832510 \t of\n",
      "7425985699627899538 \t the\n",
      "6966456435062322573 \t funn\n",
      "9246666339616930017 \t vacation\n",
      "561228191312463089 \t -PRON-\n",
      "14692702688101715474 \t have\n",
      "6231102377460051108 \t ever\n",
      "10382539506755952630 \t be\n",
      "5640369432778651323 \t on\n",
      "12646065887601541794 \t .\n",
      "561228191312463089 \t -PRON-\n",
      "4002794779261404727 \t spend\n",
      "5759855152199531026 \t everday\n",
      "7148522813498185515 \t just\n",
      "17283579609114212050 \t explore\n",
      "4753564829687343602 \t new\n",
      "4741723954550017709 \t placesand\n",
      "14798207169164081740 \t meeting\n",
      "13409319323822384369 \t all\n",
      "11997309252971546427 \t kind\n",
      "886050111519832510 \t of\n",
      "10799185252440613029 \t interesting\n",
      "7593739049417968140 \t people\n",
      "12646065887601541794 \t .\n"
     ]
    }
   ],
   "source": [
    "if __name__ == \"__main__\":\n",
    "    lemma(text)"
   ]
  },
  {
   "cell_type": "code",
   "execution_count": null,
   "metadata": {},
   "outputs": [],
   "source": []
  }
 ],
 "metadata": {
  "kernelspec": {
   "display_name": "Python 3",
   "language": "python",
   "name": "python3"
  },
  "language_info": {
   "codemirror_mode": {
    "name": "ipython",
    "version": 3
   },
   "file_extension": ".py",
   "mimetype": "text/x-python",
   "name": "python",
   "nbconvert_exporter": "python",
   "pygments_lexer": "ipython3",
   "version": "3.8.13"
  }
 },
 "nbformat": 4,
 "nbformat_minor": 4
}
