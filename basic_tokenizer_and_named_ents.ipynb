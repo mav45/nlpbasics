{
 "cells": [
  {
   "cell_type": "code",
   "execution_count": 1,
   "metadata": {},
   "outputs": [],
   "source": [
    "import spacy\n",
    "nlp = spacy.load('en_core_web_sm')"
   ]
  },
  {
   "cell_type": "code",
   "execution_count": null,
   "metadata": {},
   "outputs": [],
   "source": [
    "#basic tokenization"
   ]
  },
  {
   "cell_type": "code",
   "execution_count": 5,
   "metadata": {},
   "outputs": [
    {
     "name": "stdout",
     "output_type": "stream",
     "text": [
      "Microsoft is thinking about purchasing several companies on the NYSE. GEVO may be one of them.\n"
     ]
    }
   ],
   "source": [
    "my_text = \"Microsoft is thinking about purchasing several companies on the NYSE. GEVO may be one of them.\"\n",
    "print(my_text)"
   ]
  },
  {
   "cell_type": "code",
   "execution_count": 6,
   "metadata": {},
   "outputs": [],
   "source": [
    "doc = nlp(my_text)"
   ]
  },
  {
   "cell_type": "code",
   "execution_count": 7,
   "metadata": {},
   "outputs": [
    {
     "name": "stdout",
     "output_type": "stream",
     "text": [
      "Microsoft\n",
      "is\n",
      "thinking\n",
      "about\n",
      "purchasing\n",
      "several\n",
      "companies\n",
      "on\n",
      "the\n",
      "NYSE\n",
      ".\n",
      "GEVO\n",
      "may\n",
      "be\n",
      "one\n",
      "of\n",
      "them\n",
      ".\n"
     ]
    }
   ],
   "source": [
    "for d in doc:\n",
    "    print(d)"
   ]
  },
  {
   "cell_type": "code",
   "execution_count": 14,
   "metadata": {},
   "outputs": [
    {
     "name": "stdout",
     "output_type": "stream",
     "text": [
      "Microsoft is thinking about purchasing several companies on the NYSE. GEVO, the company from Colorado, may be one of them.\n"
     ]
    }
   ],
   "source": [
    "#get named entities\n",
    "\n",
    "my_text = nlp(u'Microsoft is thinking about purchasing several companies on the NYSE. GEVO, the company from Colorado, may be one of them.')\n",
    "print(my_text)"
   ]
  },
  {
   "cell_type": "code",
   "execution_count": 15,
   "metadata": {},
   "outputs": [
    {
     "name": "stdout",
     "output_type": "stream",
     "text": [
      "Microsoft - ORG - Companies, agencies, institutions, etc.\n",
      "NYSE - ORG - Companies, agencies, institutions, etc.\n",
      "GEVO - PERSON - People, including fictional\n",
      "Colorado - GPE - Countries, cities, states\n"
     ]
    }
   ],
   "source": [
    "for ent in my_text.ents:\n",
    "    print(ent.text+' - '+ent.label_+' - '+str(spacy.explain(ent.label_)))"
   ]
  },
  {
   "cell_type": "code",
   "execution_count": null,
   "metadata": {},
   "outputs": [],
   "source": []
  }
 ],
 "metadata": {
  "kernelspec": {
   "display_name": "Python 3",
   "language": "python",
   "name": "python3"
  },
  "language_info": {
   "codemirror_mode": {
    "name": "ipython",
    "version": 3
   },
   "file_extension": ".py",
   "mimetype": "text/x-python",
   "name": "python",
   "nbconvert_exporter": "python",
   "pygments_lexer": "ipython3",
   "version": "3.8.13"
  }
 },
 "nbformat": 4,
 "nbformat_minor": 4
}
